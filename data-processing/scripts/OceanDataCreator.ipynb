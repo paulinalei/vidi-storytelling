{
 "cells": [
  {
   "cell_type": "code",
   "execution_count": 52,
   "metadata": {
    "collapsed": true
   },
   "outputs": [],
   "source": [
    "#Given a year 2009\n",
    "# we have N cells \n",
    "# Each cell contains information [{sst,wind_dir, cholorphyll, index, month, month_index}] (array is sorted by month)\n"
   ]
  },
  {
   "cell_type": "code",
   "execution_count": 67,
   "metadata": {
    "collapsed": true
   },
   "outputs": [],
   "source": [
    "import math\n",
    "import json\n",
    "from pprint import pprint\n",
    "import pandas as pd\n",
    "from datetime import datetime"
   ]
  },
  {
   "cell_type": "code",
   "execution_count": 54,
   "metadata": {
    "collapsed": true
   },
   "outputs": [],
   "source": [
    "def drange(start, stop, step):\n",
    "    r = start\n",
    "    while r < stop:\n",
    "        yield r\n",
    "        r += step"
   ]
  },
  {
   "cell_type": "code",
   "execution_count": 92,
   "metadata": {
    "collapsed": true
   },
   "outputs": [],
   "source": [
    "def readSSTData(year):\n",
    "    data = []\n",
    "    filename = \"../data/sst\" + str(year) + '.json'\n",
    "    with open(filename) as f:\n",
    "        data = json.load(f)\n",
    "    return data"
   ]
  },
  {
   "cell_type": "code",
   "execution_count": 93,
   "metadata": {
    "collapsed": false
   },
   "outputs": [],
   "source": [
    "def readWindData():\n",
    "    data = []\n",
    "    filename = \"../data/wind.json\"\n",
    "    with open(filename) as f:\n",
    "        data = json.load(f)\n",
    "    return data\n",
    "    "
   ]
  },
  {
   "cell_type": "code",
   "execution_count": 94,
   "metadata": {
    "collapsed": true
   },
   "outputs": [],
   "source": [
    "def initMatrix(yearRange):\n",
    "    matrix = []\n",
    "    smallestLat = 35.775\n",
    "    largestLat = 39.15\n",
    "    smallestLon = 235.5625\n",
    "    largestLon = 238.9375\n",
    "    latRange = largestLat - smallestLat\n",
    "    lonRange = largestLon - smallestLon\n",
    "\n",
    "    latStep = latRange/10\n",
    "    lonStep = lonRange/10\n",
    "\n",
    "    latInterval = drange(smallestLat, largestLat, latStep)\n",
    "    latInc = [float(\"{0:.4f}\".format(x)) for x in latInterval]\n",
    "    latInc = latInc[:-1]\n",
    "\n",
    "    lonInterval = drange(smallestLon, largestLon, lonStep)\n",
    "    lonInc = [float(\"{0:.4f}\".format(x)) for x in lonInterval]\n",
    "    \n",
    "    for lat_ in latInc:\n",
    "        for lon_ in lonInc:\n",
    "            latRnge =[lat_,lat_+1]\n",
    "            lonRnge =[lon_,lon_+1]\n",
    "            cell = {'latRange': latRnge, 'lonRange': lonRnge}\n",
    "            for year in yearRange:\n",
    "                cell[year] = {'sst':-9999,'windDegree':-9999}\n",
    "            matrix.append(cell)\n",
    "        \n",
    "    return matrix\n",
    "    "
   ]
  },
  {
   "cell_type": "code",
   "execution_count": null,
   "metadata": {
    "collapsed": true
   },
   "outputs": [],
   "source": [
    "def retrieveNOAAData(dateStart, dateEnd){\n",
    "        fetch(....[date])\n",
    "    https://coastwatch.pfeg.noaa.gov/erddap/griddap/jplMURSST41mday.json?sst[\n",
    "        (2018-12-16T00:00:00Z):1:(2018-12-16T00:00:00Z)]\n",
    "    [(-89.99):1:(89.99)][(-179.99):1:(180.0)],nobs[(2018-12-16T00:00:00Z):1:(2018-12-16T00:00:00Z)][(-89.99):1:(89.99)][(-179.99):1:(180.0)],mask[(2018-12-16T00:00:00Z):1:(2018-12-16T00:00:00Z)][(-89.99):1:(89.99)][(-179.99):1:(180.0)]\n",
    "}"
   ]
  },
  {
   "cell_type": "code",
   "execution_count": 99,
   "metadata": {
    "collapsed": false
   },
   "outputs": [],
   "source": [
    "#extend this to handle days for that month.\n",
    "# e.g sst:(float) -> sst:[float,float,...] (sorted by day)\n",
    "def processFile(years,matrix):\n",
    "    for year in years:\n",
    "        sstData = readSSTData(year)\n",
    "        rows = sstData[\"table\"][\"rows\"]\n",
    "        for idx, cell in enumerate(matrix):\n",
    "            cell = matrix[idx]\n",
    "            totalIntTemp = 0\n",
    "            count = 0\n",
    "            avgIntTemp = 0\n",
    "            for row in rows:\n",
    "                lat = row[2]\n",
    "                lon = row[3]\n",
    "                sst = row[4]\n",
    "                if((cell['latRange'][0] <= lat <= cell['latRange'][1] ) and (cell['lonRange'][0] <= lon <= cell['lonRange'][1])):\n",
    "                    if(sst != None and sst != 0):\n",
    "                        count = count + 1\n",
    "                        totalIntTemp = totalIntTemp + sst\n",
    "            if count != 0:\n",
    "                avgIntTemp = totalIntTemp/count\n",
    "                cell[year]['sst'] = float(\"{0:.4f}\".format(avgIntTemp))\n",
    "        \n",
    "    return matrix"
   ]
  },
  {
   "cell_type": "code",
   "execution_count": 100,
   "metadata": {
    "collapsed": false
   },
   "outputs": [],
   "source": [
    "def processWindData(matrix):\n",
    "    windData = readWindData()\n",
    "    windRows = windData['table']['rows']\n",
    "    for idx, cell in enumerate(matrix):\n",
    "        cell = matrix[idx]\n",
    "        for wRow in windRows:\n",
    "            datetime_object = datetime.strptime(wRow[0], '%Y-%m-%dT%H:%M:%SZ')\n",
    "            year = datetime_object.year\n",
    "            lat = wRow[2]\n",
    "            lon = wRow[3]\n",
    "            xWind = wRow[4]\n",
    "            yWind = wRow[5]\n",
    "            if((cell['latRange'][0] <= lat <= cell['latRange'][1] ) and (cell['lonRange'][0] <= lon <= cell['lonRange'][1])):\n",
    "                if(xWind != None and yWind != None):\n",
    "                    cell[year]['windDegree'] = wind_degree = math.degrees(math.atan(yWind/xWind))\n",
    "    return matrix"
   ]
  },
  {
   "cell_type": "code",
   "execution_count": 103,
   "metadata": {
    "collapsed": false
   },
   "outputs": [],
   "source": [
    "#run this function for all \n",
    "years = [2009,2010,2011,2012,2013,2014,2015,2016,2017,2018]\n",
    "sstYears = [2009,2010,2011,2015,2016,2017,2018]\n",
    "matrix = initMatrix(years)\n",
    "matrix = processFile(sstYears,matrix)\n",
    "matrix = processWindData(matrix)"
   ]
  },
  {
   "cell_type": "code",
   "execution_count": 105,
   "metadata": {
    "collapsed": false
   },
   "outputs": [],
   "source": [
    "with open('data.json', 'w') as outfile:\n",
    "    json.dump(matrix, outfile)"
   ]
  },
  {
   "cell_type": "code",
   "execution_count": null,
   "metadata": {
    "collapsed": true
   },
   "outputs": [],
   "source": []
  }
 ],
 "metadata": {
  "kernelspec": {
   "display_name": "Python 3",
   "language": "python",
   "name": "python3"
  },
  "language_info": {
   "codemirror_mode": {
    "name": "ipython",
    "version": 3
   },
   "file_extension": ".py",
   "mimetype": "text/x-python",
   "name": "python",
   "nbconvert_exporter": "python",
   "pygments_lexer": "ipython3",
   "version": "3.6.3"
  }
 },
 "nbformat": 4,
 "nbformat_minor": 2
}
