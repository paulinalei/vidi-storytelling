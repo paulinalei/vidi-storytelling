{
 "cells": [
  {
   "cell_type": "code",
   "execution_count": null,
   "metadata": {
    "collapsed": true
   },
   "outputs": [],
   "source": [
    "#Given a year 2009\n",
    "# we have N cells \n",
    "# Each cell contains information [{sst,wind_dir, cholorphyll, index, month, month_index}] (array is sorted by month)\n"
   ]
  },
  {
   "cell_type": "code",
   "execution_count": 1,
   "metadata": {
    "collapsed": true
   },
   "outputs": [],
   "source": [
    "import math\n",
    "import json\n",
    "from pprint import pprint"
   ]
  },
  {
   "cell_type": "code",
   "execution_count": 2,
   "metadata": {
    "collapsed": true
   },
   "outputs": [],
   "source": [
    "def drange(start, stop, step):\n",
    "    r = start\n",
    "    while r < stop:\n",
    "        yield r\n",
    "        r += step"
   ]
  },
  {
   "cell_type": "code",
   "execution_count": null,
   "metadata": {
    "collapsed": true
   },
   "outputs": [],
   "source": [
    "with open('2018.json') as f:\n",
    "    data = json.load(f)\n",
    "\n",
    "tempData = data[\"table\"][\"rows\"]\n",
    "\n",
    "smallestLat = 35.775\n",
    "largestLat = 39.15\n",
    "smallestLon = 235.5625\n",
    "largestLon = 238.9375\n",
    "latRange = largestLat - smallestLat\n",
    "lonRange = largestLon - smallestLon\n",
    "\n",
    "latStep = latRange/10\n",
    "lonStep = lonRange/10\n",
    "\n",
    "latInterval = drange(smallestLat, largestLat, latStep)\n",
    "latInc = [float(\"{0:.4f}\".format(x)) for x in latInterval]\n",
    "latInc = latInc[:-1]\n",
    "\n",
    "lonInterval = drange(smallestLon, largestLon, lonStep)\n",
    "lonInc = [float(\"{0:.4f}\".format(x)) for x in lonInterval]\n",
    "\n",
    "tempArray = []\n",
    "for j in latInc:\n",
    "    tempLonArray = []\n",
    "    for k in lonInc:\n",
    "        totalIntTemp = 0\n",
    "        count = 0\n",
    "        avgIntTemp = 0\n",
    "        for i in range(len(tempData)):\n",
    "            if tempData[i][2] > j and tempData[i][2] < j+1 and tempData[i][3] > k and tempData[i][3] < k+1:\n",
    "                if tempData[i][4] != None and tempData[i][4] != 0:\n",
    "                    count = count + 1\n",
    "                    totalIntTemp = totalIntTemp + tempData[i][4]\n",
    "                    \n",
    "        if count != 0:\n",
    "            avgIntTemp = totalIntTemp/count\n",
    "        else:\n",
    "            avgIntTemp = -9999\n",
    "        tempLonArray.append(float(\"{0:.4f}\".format(avgIntTemp)))\n",
    "    tempArray.append(tempLonArray)\n",
    "print(tempArray)"
   ]
  }
 ],
 "metadata": {
  "kernelspec": {
   "display_name": "Python 3",
   "language": "python",
   "name": "python3"
  },
  "language_info": {
   "codemirror_mode": {
    "name": "ipython",
    "version": 3
   },
   "file_extension": ".py",
   "mimetype": "text/x-python",
   "name": "python",
   "nbconvert_exporter": "python",
   "pygments_lexer": "ipython3",
   "version": "3.6.3"
  }
 },
 "nbformat": 4,
 "nbformat_minor": 2
}
