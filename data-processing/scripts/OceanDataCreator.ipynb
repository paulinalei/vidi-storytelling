{
 "cells": [
  {
   "cell_type": "code",
   "execution_count": 1,
   "metadata": {
    "collapsed": true
   },
   "outputs": [],
   "source": [
    "#Given a year 2009\n",
    "# we have N cells \n",
    "# Each cell contains information [{sst,wind_dir, cholorphyll, index, month, month_index}] (array is sorted by month)\n"
   ]
  },
  {
   "cell_type": "code",
   "execution_count": 2,
   "metadata": {
    "collapsed": true
   },
   "outputs": [],
   "source": [
    "import math\n",
    "import json\n",
    "import csv\n",
    "import re\n",
    "import ast\n",
    "from pprint import pprint\n",
    "import pandas as pd\n",
    "from datetime import datetime"
   ]
  },
  {
   "cell_type": "code",
   "execution_count": 3,
   "metadata": {
    "collapsed": true
   },
   "outputs": [],
   "source": [
    "def drange(start, stop, step):\n",
    "    r = start\n",
    "    while r < stop:\n",
    "        yield r\n",
    "        r += step"
   ]
  },
  {
   "cell_type": "code",
   "execution_count": 4,
   "metadata": {
    "collapsed": true
   },
   "outputs": [],
   "source": [
    "def speciesMap():\n",
    "    speciesmap = {}\n",
    "    firstspeciesrow = \"\"\n",
    "    with open(\"../data/species_codes.csv\") as codefile:\n",
    "        codereader = csv.reader(codefile, delimiter=\",\")\n",
    "        linecount = 0\n",
    "        for row in codereader:\n",
    "            if linecount == 0:\n",
    "                linecount = linecount + 1\n",
    "                firstspeciesrow = row\n",
    "                continue\n",
    "            group = row[3]\n",
    "            speciesmap[str(row[1])] = str(group).lower()\n",
    "        speciesmap[\"OTHER ROCKFISH YOY\"] = \"other rockfish\"\n",
    "        speciesmap['WOLF EEL YOY'] = \"other rockfish\"\n",
    "        speciesmap['PAINTED GREENLING YOY'] = \"other rockfish\"\n",
    "        speciesmap['CURLFIN SOLE'] = \"flatfish\"\n",
    "        speciesmap['PACIFIC ARGENTINE'] = \"fish\"\n",
    "    return speciesmap"
   ]
  },
  {
   "cell_type": "code",
   "execution_count": 5,
   "metadata": {
    "collapsed": false
   },
   "outputs": [],
   "source": [
    "def readTopLevelCodes():\n",
    "    data = []\n",
    "    filename = \"../data/speciesClass.json\"\n",
    "    with open(filename) as f:\n",
    "        data = json.load(f)\n",
    "    return data"
   ]
  },
  {
   "cell_type": "code",
   "execution_count": null,
   "metadata": {
    "collapsed": false
   },
   "outputs": [],
   "source": []
  },
  {
   "cell_type": "code",
   "execution_count": 6,
   "metadata": {
    "collapsed": true
   },
   "outputs": [],
   "source": [
    "def readSSTData(year):\n",
    "    data = []\n",
    "    filename = \"../data/sstmay\" + str(year) + '.json'\n",
    "    with open(filename) as f:\n",
    "        data = json.load(f)\n",
    "    return data"
   ]
  },
  {
   "cell_type": "code",
   "execution_count": 7,
   "metadata": {
    "collapsed": true
   },
   "outputs": [],
   "source": [
    "def readCholorData(year):\n",
    "    data = []\n",
    "    filename = \"../data/chlorophyllmay\" + str(year) + '.json'\n",
    "    with open(filename) as f:\n",
    "        data = json.load(f)\n",
    "    return data"
   ]
  },
  {
   "cell_type": "code",
   "execution_count": 8,
   "metadata": {
    "collapsed": false
   },
   "outputs": [],
   "source": [
    "def readWindData():\n",
    "    data = []\n",
    "    filename = \"../data/wind.json\"\n",
    "    with open(filename) as f:\n",
    "        data = json.load(f)\n",
    "    return data\n",
    "    "
   ]
  },
  {
   "cell_type": "code",
   "execution_count": 9,
   "metadata": {
    "collapsed": true
   },
   "outputs": [],
   "source": [
    "def initMatrix(yearRange):\n",
    "    matrix = []\n",
    "    smallestLat = 35.775\n",
    "    largestLat = 39.15\n",
    "    smallestLon = 235.5625\n",
    "    largestLon = 238.9375\n",
    "    latRange = largestLat - smallestLat\n",
    "    lonRange = largestLon - smallestLon\n",
    "\n",
    "    latStep = latRange/11\n",
    "    lonStep = lonRange/11\n",
    "\n",
    "    latInterval = drange(smallestLat, largestLat, latStep)\n",
    "    latInc = [float(\"{0:.4f}\".format(x)) for x in latInterval]\n",
    "    latInc = latInc[:-1]\n",
    "\n",
    "    lonInterval = drange(smallestLon, largestLon, lonStep)\n",
    "    lonInc = [float(\"{0:.4f}\".format(x)) for x in lonInterval]\n",
    "    for lat_i, lat_ in enumerate(latInc):\n",
    "        if(lat_i+1 < len(latInc)):\n",
    "            for lon_i,lon_ in enumerate(lonInc):\n",
    "                if(lon_i+1 < len(lonInc)):\n",
    "                    latRnge =[lat_,latInc[lat_i+1]]\n",
    "                    lonRnge =[lon_,lonInc[lon_i+1]]\n",
    "                    cell = {'latRange': latRnge, 'lonRange': lonRnge}\n",
    "                    for year in yearRange:\n",
    "                        cell[year] = {'sst':-9999,'windDegree':-9999, 'chloro': -9999}\n",
    "                    matrix.append(cell)\n",
    "        \n",
    "    return matrix\n",
    "    "
   ]
  },
  {
   "cell_type": "code",
   "execution_count": 10,
   "metadata": {
    "collapsed": false
   },
   "outputs": [],
   "source": [
    "# latRange and lonRange match merge data\n",
    "# map concated data to new species :o\n",
    "# map to matrixObject (saves time for processing step...)\n",
    "def populationForCell(sol):\n",
    "    keyDump = json.loads(sol[0])\n",
    "    keys = []\n",
    "    for key, values in keyDump.items() :\n",
    "        keys.append(key)\n",
    "\n",
    "    cellIDs = {}\n",
    "    for row in sol:\n",
    "        pops = json.loads(row)\n",
    "        id_ = pops[\"cellID\"]\n",
    "        if id_ in cellIDs:\n",
    "            for key in keys:\n",
    "                if key not in [\"latRange\",\"lonRange\",\"cellID\",\"lat\",\"lon\"]:\n",
    "                    cellIDs[id_][key] = cellIDs[id_][key] + pops[key]\n",
    "        else:\n",
    "            cellIDs[id_] = pops\n",
    "\n",
    "    rTLC = readTopLevelCodes()\n",
    "    levelOne = [] \n",
    "    for key, value in rTLC.items():\n",
    "        levelOne.append(value) \n",
    "    levelOne = list(set(levelOne))\n",
    "    \n",
    "    speciesmap = speciesMap()\n",
    "    levelTwo = []\n",
    "    for key, value in speciesmap.items():\n",
    "        levelTwo.append(value) \n",
    "    levelTwo = list(set(levelTwo))\n",
    "    \n",
    "    species = []\n",
    "    for key, value in cellIDs.items():\n",
    "        species.append(value) \n",
    "        \n",
    "    for val in species:\n",
    "        val['uniqueSpecies'] = list(set(val['uniqueSpecies']))\n",
    "        val['uniqueSpeciesCount'] = len(val['uniqueSpecies'])\n",
    "        val['levelTwo'] = levelTwo\n",
    "        val['levelOne'] = levelOne\n",
    "        levelOneMap = {}\n",
    "        for spec in levelTwo:\n",
    "            if rTLC[spec] in levelOneMap:\n",
    "                levelOneMap[rTLC[spec]] = levelOneMap[rTLC[spec]] + val[spec]\n",
    "            else:\n",
    "                levelOneMap[rTLC[spec]] = val[spec]\n",
    "        val['levelOneMap'] = levelOneMap\n",
    "    return species"
   ]
  },
  {
   "cell_type": "code",
   "execution_count": 11,
   "metadata": {
    "collapsed": true
   },
   "outputs": [],
   "source": [
    "def processPopulation(year):\n",
    "    smallestLat = 35.775\n",
    "    largestLat = 39.15\n",
    "    smallestLon = 235.5625\n",
    "    largestLon = 238.9375\n",
    "    latRange = largestLat - smallestLat\n",
    "    lonRange = largestLon - smallestLon\n",
    "\n",
    "    latStep = latRange/11\n",
    "    lonStep = lonRange/11\n",
    "    \n",
    "    latInterval = drange(smallestLat, largestLat, latStep)\n",
    "    latInc = [float(\"{0:.4f}\".format(x)) for x in latInterval]\n",
    "    latInc = latInc[:-1]\n",
    "\n",
    "    lonInterval = drange(smallestLon, largestLon, lonStep)\n",
    "    lonInc = [float(\"{0:.4f}\".format(x)) for x in lonInterval]\n",
    "    \n",
    "    speciesmap = speciesMap()\n",
    "    firsthaulrow = \"\"\n",
    "    datadict = {}\n",
    "    sol = []\n",
    "    with open(\"../data/haul_catch_years_clean.csv\") as haulfile:\n",
    "        reader = csv.reader(haulfile, delimiter=\",\")\n",
    "        firsthaulrow = next(reader, None)\n",
    "        for row in reader:\n",
    "            date = row[2]\n",
    "            monthmatch = re.search(r'\\d+', date)\n",
    "            yearmatch = re.search(r'\\d{4}', date)\n",
    "            monthvalue = monthmatch.group()\n",
    "            yearvalue = yearmatch.group()\n",
    "            for i in range(3, len(row)):\n",
    "                speciescodes = speciesmap[firsthaulrow[i]]\n",
    "                datadict[speciescodes] = 0\n",
    "\n",
    "            if monthvalue == \"5\" and yearvalue == str(year):\n",
    "                 for i, lat_ in enumerate(latInc):\n",
    "                    lat = ast.literal_eval(row[0])\n",
    "                    if(i+1 < len(latInc)):\n",
    "                        if lat >= lat_ and lat < latInc[i+1]:\n",
    "                            for j,lon_ in enumerate(lonInc):\n",
    "                                lon = 360-ast.literal_eval(row[1])\n",
    "                                if(j+1 < len(lonInc)):\n",
    "                                    if lon >= lon_ and lon < lonInc[j+1]:\n",
    "                                        latRnge =[lat_,latInc[i+1]]\n",
    "                                        lonRnge =[lon_,lonInc[j+1]]\n",
    "                                        datadict['latRange'] = latRnge\n",
    "                                        datadict['lonRange'] = lonRnge\n",
    "                                        datadict['cellID'] = str(i) + str(j)\n",
    "                                        datadict[\"lat\"] = float(\"{0:.4f}\".format(lat))\n",
    "                                        datadict[\"lon\"] = float(\"{0:.4f}\".format(lon))\n",
    "                                        datadict[\"uniqueSpecies\"] = []\n",
    "                                        for k in range(3, len(row)):\n",
    "                                            if row[k] != '':\n",
    "                                                value = ast.literal_eval(row[k])\n",
    "                                                if value > 0:\n",
    "                                                    datadict[\"uniqueSpecies\"].append(firsthaulrow[k])\n",
    "                                                    datadict[speciesmap[firsthaulrow[k]]] += value\n",
    "                                        datadictjson = json.dumps(datadict)\n",
    "                                        sol.append(datadictjson)\n",
    "    #                                 print(datadictjson, end=\",\\n\")\n",
    "    if len(sol) > 0:\n",
    "        return populationForCell(sol)\n",
    "    else:\n",
    "        return []"
   ]
  },
  {
   "cell_type": "code",
   "execution_count": 12,
   "metadata": {
    "collapsed": false
   },
   "outputs": [],
   "source": [
    "#extend this to handle days for that month.\n",
    "# e.g sst:(float) -> sst:[float,float,...] (sorted by day)\n",
    "def processFile(years,matrix):\n",
    "    for year in years:\n",
    "        sstData = readSSTData(year)\n",
    "        rows = sstData[\"table\"][\"rows\"]\n",
    "        for idx, cell in enumerate(matrix):\n",
    "            cell = matrix[idx]\n",
    "            totalIntTemp = 0\n",
    "            count = 0\n",
    "            avgIntTemp = 0\n",
    "            for row in rows:\n",
    "                lat = row[2]\n",
    "                lon = row[3]\n",
    "                sst = row[4]\n",
    "                if((cell['latRange'][0] <= lat <= cell['latRange'][1] ) and (cell['lonRange'][0] <= lon <= cell['lonRange'][1])):\n",
    "                    if(sst != None and sst != 0):\n",
    "                        count = count + 1\n",
    "                        totalIntTemp = totalIntTemp + sst\n",
    "            if count != 0:\n",
    "                avgIntTemp = totalIntTemp/count\n",
    "                cell[year]['sst'] = float(\"{0:.4f}\".format(avgIntTemp))\n",
    "        \n",
    "    return matrix"
   ]
  },
  {
   "cell_type": "code",
   "execution_count": 13,
   "metadata": {
    "collapsed": false
   },
   "outputs": [],
   "source": [
    "def processWindData(matrix):\n",
    "    windData = readWindData()\n",
    "    windRows = windData['table']['rows']\n",
    "    for idx, cell in enumerate(matrix):\n",
    "        cell = matrix[idx]\n",
    "        for wRow in windRows:\n",
    "            datetime_object = datetime.strptime(wRow[0], '%Y-%m-%dT%H:%M:%SZ')\n",
    "            year = datetime_object.year\n",
    "            lat = wRow[2]\n",
    "            lon = wRow[3]\n",
    "            xWind = wRow[4]\n",
    "            yWind = wRow[5]\n",
    "            if((cell['latRange'][0] <= lat <= cell['latRange'][1] ) and (cell['lonRange'][0] <= lon <= cell['lonRange'][1])):\n",
    "                if(xWind != None and yWind != None):\n",
    "                    cell[year]['windDegree'] = wind_degree = math.degrees(math.atan(yWind/xWind))\n",
    "    return matrix"
   ]
  },
  {
   "cell_type": "code",
   "execution_count": 14,
   "metadata": {
    "collapsed": true
   },
   "outputs": [],
   "source": [
    "def processChlorophyll(years,matrix):\n",
    "    for year in years:\n",
    "        cholorData = readCholorData(year)\n",
    "        rows = cholorData[\"table\"][\"rows\"]\n",
    "        for idx, cell in enumerate(matrix):\n",
    "            cell = matrix[idx]\n",
    "            totalIntTemp = 0\n",
    "            count = 0\n",
    "            avgIntTemp = 0\n",
    "            for row in rows:\n",
    "                lat = row[2]\n",
    "                lon = row[3]\n",
    "                chloro = row[4]\n",
    "                if((cell['latRange'][0] <= lat <= cell['latRange'][1] ) and (cell['lonRange'][0] <= lon <= cell['lonRange'][1])):\n",
    "                    if(chloro != None ):\n",
    "                        count = count + 1\n",
    "                        totalIntTemp = totalIntTemp + chloro\n",
    "            if count != 0:\n",
    "                avgIntTemp = totalIntTemp/count\n",
    "                cell[year]['chloro'] = float(\"{0:.4f}\".format(avgIntTemp))\n",
    "        \n",
    "    return matrix"
   ]
  },
  {
   "cell_type": "code",
   "execution_count": 15,
   "metadata": {
    "collapsed": true
   },
   "outputs": [],
   "source": [
    "def calculateAverage(data):\n",
    "    #given data for that year for each species... sum up  divide by cells\n",
    "    level2Totals = {}\n",
    "    level1Totals = {}\n",
    "\n",
    "    for d in data:\n",
    "        for l1_name in d['levelOne']:\n",
    "            if l1_name in level1Totals:\n",
    "                level1Totals[l1_name]['sum'] = level1Totals[l1_name]['sum'] + d['levelOneMap'][l1_name]\n",
    "                level1Totals[l1_name]['count'] = level1Totals[l1_name]['count'] + 1\n",
    "                level1Totals[l1_name]['average'] = level1Totals[l1_name]['sum'] / level1Totals[l1_name]['count']\n",
    "            else:\n",
    "                level1Totals[l1_name] = {'sum':0,'count':0,'average':0}\n",
    "                \n",
    "        \n",
    "        for l2_name in d['levelTwo']:\n",
    "            if l2_name in level2Totals:\n",
    "                level2Totals[l2_name]['sum'] = level2Totals[l2_name]['sum'] + d[l2_name]\n",
    "                level2Totals[l2_name]['count'] = level2Totals[l2_name]['count'] + 1\n",
    "                level2Totals[l2_name]['average'] = level2Totals[l2_name]['sum'] / level2Totals[l2_name]['count']\n",
    "            else:\n",
    "                level2Totals[l2_name] = {'sum':0,'count':0,'average':0}\n",
    "    \n",
    "    return [level1Totals,level2Totals]"
   ]
  },
  {
   "cell_type": "code",
   "execution_count": 16,
   "metadata": {
    "collapsed": false
   },
   "outputs": [],
   "source": [
    "def processPops(matrix,years):\n",
    "    yearAvg = {}\n",
    "    for year in years:\n",
    "        popData = processPopulation(year)\n",
    "        yearlyAverage = calculateAverage(popData)\n",
    "        yearAvg[year] = {'L1':yearlyAverage[0],'L2':yearlyAverage[1]}\n",
    "        for data in popData:\n",
    "            matrix[int(data['cellID'])][year]['popInfo'] = data\n",
    "    return [matrix,yearAvg]"
   ]
  },
  {
   "cell_type": "code",
   "execution_count": 18,
   "metadata": {
    "collapsed": false
   },
   "outputs": [],
   "source": [
    "#run this function for all \n",
    "years = [2009,2010,2011,2012,2013,2014,2015,2016,2017,2018]\n",
    "sstYears = [2009,2010,2011,2012,2013,2014,2015]\n",
    "matrix = initMatrix(years)\n",
    "matrix = processFile(sstYears,matrix)\n",
    "matrix = processWindData(matrix) #for all years\n",
    "matrix = processChlorophyll(sstYears,matrix)\n"
   ]
  },
  {
   "cell_type": "code",
   "execution_count": 19,
   "metadata": {
    "collapsed": false
   },
   "outputs": [
    {
     "name": "stdout",
     "output_type": "stream",
     "text": [
      "100\n"
     ]
    }
   ],
   "source": [
    "newMatrix = matrix\n",
    "print(len(matrix))\n"
   ]
  },
  {
   "cell_type": "code",
   "execution_count": 23,
   "metadata": {
    "collapsed": false
   },
   "outputs": [],
   "source": [
    "temp = processPops(newMatrix,years)"
   ]
  },
  {
   "cell_type": "code",
   "execution_count": null,
   "metadata": {
    "collapsed": false
   },
   "outputs": [],
   "source": []
  },
  {
   "cell_type": "code",
   "execution_count": null,
   "metadata": {
    "collapsed": false
   },
   "outputs": [],
   "source": []
  },
  {
   "cell_type": "code",
   "execution_count": 26,
   "metadata": {
    "collapsed": true
   },
   "outputs": [],
   "source": [
    "with open('average_data.json', 'w') as outfile:\n",
    "    json.dump(temp[1], outfile)"
   ]
  },
  {
   "cell_type": "code",
   "execution_count": null,
   "metadata": {
    "collapsed": true
   },
   "outputs": [],
   "source": []
  }
 ],
 "metadata": {
  "anaconda-cloud": {},
  "kernelspec": {
   "display_name": "Python 3",
   "language": "python",
   "name": "python3"
  },
  "language_info": {
   "codemirror_mode": {
    "name": "ipython",
    "version": 3
   },
   "file_extension": ".py",
   "mimetype": "text/x-python",
   "name": "python",
   "nbconvert_exporter": "python",
   "pygments_lexer": "ipython3",
   "version": "3.6.3"
  }
 },
 "nbformat": 4,
 "nbformat_minor": 2
}
