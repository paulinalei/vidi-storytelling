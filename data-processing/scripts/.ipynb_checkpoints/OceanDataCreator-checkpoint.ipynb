{
 "cells": [
  {
   "cell_type": "code",
   "execution_count": 1,
   "metadata": {
    "collapsed": true
   },
   "outputs": [],
   "source": [
    "#Given a year 2009\n",
    "# we have N cells \n",
    "# Each cell contains information [{sst,wind_dir, cholorphyll, index, month, month_index}] (array is sorted by month)\n"
   ]
  },
  {
   "cell_type": "code",
   "execution_count": 2,
   "metadata": {
    "collapsed": true
   },
   "outputs": [],
   "source": [
    "import math\n",
    "import json\n",
    "import csv\n",
    "import re\n",
    "import ast\n",
    "from pprint import pprint\n",
    "import pandas as pd\n",
    "from datetime import datetime"
   ]
  },
  {
   "cell_type": "code",
   "execution_count": 3,
   "metadata": {
    "collapsed": true
   },
   "outputs": [],
   "source": [
    "def drange(start, stop, step):\n",
    "    r = start\n",
    "    while r < stop:\n",
    "        yield r\n",
    "        r += step"
   ]
  },
  {
   "cell_type": "code",
   "execution_count": 4,
   "metadata": {
    "collapsed": true
   },
   "outputs": [],
   "source": [
    "def speciesMap():\n",
    "    speciesmap = {}\n",
    "    firstspeciesrow = \"\"\n",
    "    with open(\"../data/species_codes.csv\") as codefile:\n",
    "        codereader = csv.reader(codefile, delimiter=\",\")\n",
    "        linecount = 0\n",
    "        for row in codereader:\n",
    "            if linecount == 0:\n",
    "                linecount = linecount + 1\n",
    "                firstspeciesrow = row\n",
    "                continue\n",
    "            group = row[3]\n",
    "            speciesmap[str(row[1])] = str(group).lower()\n",
    "        speciesmap[\"OTHER ROCKFISH YOY\"] = \"other rockfish\"\n",
    "        speciesmap['WOLF EEL YOY'] = \"other rockfish\"\n",
    "        speciesmap['PAINTED GREENLING YOY'] = \"other rockfish\"\n",
    "        speciesmap['CURLFIN SOLE'] = \"flatfish\"\n",
    "        speciesmap['PACIFIC ARGENTINE'] = \"fish\"\n",
    "    return speciesmap"
   ]
  },
  {
   "cell_type": "code",
   "execution_count": 5,
   "metadata": {
    "collapsed": false
   },
   "outputs": [],
   "source": [
    "def readTopLevelCodes():\n",
    "    data = []\n",
    "    filename = \"../data/speciesClass.json\"\n",
    "    with open(filename) as f:\n",
    "        data = json.load(f)\n",
    "    return data"
   ]
  },
  {
   "cell_type": "code",
   "execution_count": null,
   "metadata": {
    "collapsed": false
   },
   "outputs": [],
   "source": []
  },
  {
   "cell_type": "code",
   "execution_count": 6,
   "metadata": {
    "collapsed": true
   },
   "outputs": [],
   "source": [
    "def readSSTData(year):\n",
    "    data = []\n",
    "    filename = \"../data/sstmay\" + str(year) + '.json'\n",
    "    with open(filename) as f:\n",
    "        data = json.load(f)\n",
    "    return data"
   ]
  },
  {
   "cell_type": "code",
   "execution_count": 7,
   "metadata": {
    "collapsed": true
   },
   "outputs": [],
   "source": [
    "def readCholorData(year):\n",
    "    data = []\n",
    "    filename = \"../data/chlorophyllmay\" + str(year) + '.json'\n",
    "    with open(filename) as f:\n",
    "        data = json.load(f)\n",
    "    return data"
   ]
  },
  {
   "cell_type": "code",
   "execution_count": 8,
   "metadata": {
    "collapsed": false
   },
   "outputs": [],
   "source": [
    "def readWindData():\n",
    "    data = []\n",
    "    filename = \"../data/wind.json\"\n",
    "    with open(filename) as f:\n",
    "        data = json.load(f)\n",
    "    return data\n",
    "    "
   ]
  },
  {
   "cell_type": "code",
   "execution_count": 9,
   "metadata": {
    "collapsed": true
   },
   "outputs": [],
   "source": [
    "def initMatrix(yearRange):\n",
    "    matrix = []\n",
    "    smallestLat = 35.775\n",
    "    largestLat = 39.15\n",
    "    smallestLon = 235.5625\n",
    "    largestLon = 238.9375\n",
    "    latRange = largestLat - smallestLat\n",
    "    lonRange = largestLon - smallestLon\n",
    "\n",
    "    latStep = latRange/11\n",
    "    lonStep = lonRange/11\n",
    "\n",
    "    latInterval = drange(smallestLat, largestLat, latStep)\n",
    "    latInc = [float(\"{0:.4f}\".format(x)) for x in latInterval]\n",
    "    latInc = latInc[:-1]\n",
    "\n",
    "    lonInterval = drange(smallestLon, largestLon, lonStep)\n",
    "    lonInc = [float(\"{0:.4f}\".format(x)) for x in lonInterval]\n",
    "    for lat_i, lat_ in enumerate(latInc):\n",
    "        if(lat_i+1 < len(latInc)):\n",
    "            for lon_i,lon_ in enumerate(lonInc):\n",
    "                if(lon_i+1 < len(lonInc)):\n",
    "                    latRnge =[lat_,latInc[lat_i+1]]\n",
    "                    lonRnge =[lon_,lonInc[lon_i+1]]\n",
    "                    cell = {'latRange': latRnge, 'lonRange': lonRnge}\n",
    "                    for year in yearRange:\n",
    "                        cell[year] = {'sst':-9999,'windDegree':-9999, 'chloro': -9999}\n",
    "                    matrix.append(cell)\n",
    "        \n",
    "    return matrix\n",
    "    "
   ]
  },
  {
   "cell_type": "code",
   "execution_count": 10,
   "metadata": {
    "collapsed": false
   },
   "outputs": [],
   "source": [
    "# latRange and lonRange match merge data\n",
    "# map concated data to new species :o\n",
    "# map to matrixObject (saves time for processing step...)\n",
    "def populationForCell(sol):\n",
    "    keyDump = json.loads(sol[0])\n",
    "    keys = []\n",
    "    for key, values in keyDump.items() :\n",
    "        keys.append(key)\n",
    "\n",
    "    cellIDs = {}\n",
    "    for row in sol:\n",
    "        pops = json.loads(row)\n",
    "        id_ = pops[\"cellID\"]\n",
    "        if id_ in cellIDs:\n",
    "            for key in keys:\n",
    "                if key not in [\"latRange\",\"lonRange\",\"cellID\",\"lat\",\"lon\"]:\n",
    "                    cellIDs[id_][key] = cellIDs[id_][key] + pops[key]\n",
    "        else:\n",
    "            cellIDs[id_] = pops\n",
    "\n",
    "    rTLC = readTopLevelCodes()\n",
    "    levelOne = [] \n",
    "    for key, value in rTLC.items():\n",
    "        levelOne.append(value) \n",
    "    levelOne = list(set(levelOne))\n",
    "    \n",
    "    speciesmap = speciesMap()\n",
    "    levelTwo = []\n",
    "    for key, value in speciesmap.items():\n",
    "        levelTwo.append(value) \n",
    "    levelTwo = list(set(levelTwo))\n",
    "    \n",
    "    species = []\n",
    "    for key, value in cellIDs.items():\n",
    "        species.append(value) \n",
    "        \n",
    "    for val in species:\n",
    "        val['uniqueSpecies'] = list(set(val['uniqueSpecies']))\n",
    "        val['uniqueSpeciesCount'] = len(val['uniqueSpecies'])\n",
    "        val['levelTwo'] = levelTwo\n",
    "        val['levelOne'] = levelOne\n",
    "        levelOneMap = {}\n",
    "        for spec in levelTwo:\n",
    "            if rTLC[spec] in levelOneMap:\n",
    "                levelOneMap[rTLC[spec]] = levelOneMap[rTLC[spec]] + val[spec]\n",
    "            else:\n",
    "                levelOneMap[rTLC[spec]] = val[spec]\n",
    "        val['levelOneMap'] = levelOneMap\n",
    "    return species"
   ]
  },
  {
   "cell_type": "code",
   "execution_count": 11,
   "metadata": {
    "collapsed": true
   },
   "outputs": [],
   "source": [
    "def processPopulation(year):\n",
    "    smallestLat = 35.775\n",
    "    largestLat = 39.15\n",
    "    smallestLon = 235.5625\n",
    "    largestLon = 238.9375\n",
    "    latRange = largestLat - smallestLat\n",
    "    lonRange = largestLon - smallestLon\n",
    "\n",
    "    latStep = latRange/11\n",
    "    lonStep = lonRange/11\n",
    "    \n",
    "    latInterval = drange(smallestLat, largestLat, latStep)\n",
    "    latInc = [float(\"{0:.4f}\".format(x)) for x in latInterval]\n",
    "    latInc = latInc[:-1]\n",
    "\n",
    "    lonInterval = drange(smallestLon, largestLon, lonStep)\n",
    "    lonInc = [float(\"{0:.4f}\".format(x)) for x in lonInterval]\n",
    "    \n",
    "    speciesmap = speciesMap()\n",
    "    firsthaulrow = \"\"\n",
    "    datadict = {}\n",
    "    sol = []\n",
    "    with open(\"../data/haul_catch_years_clean.csv\") as haulfile:\n",
    "        reader = csv.reader(haulfile, delimiter=\",\")\n",
    "        firsthaulrow = next(reader, None)\n",
    "        for row in reader:\n",
    "            date = row[2]\n",
    "            monthmatch = re.search(r'\\d+', date)\n",
    "            yearmatch = re.search(r'\\d{4}', date)\n",
    "            monthvalue = monthmatch.group()\n",
    "            yearvalue = yearmatch.group()\n",
    "            for i in range(3, len(row)):\n",
    "                speciescodes = speciesmap[firsthaulrow[i]]\n",
    "                datadict[speciescodes] = 0\n",
    "\n",
    "            if monthvalue == \"5\" and yearvalue == str(year):\n",
    "                 for i, lat_ in enumerate(latInc):\n",
    "                    lat = ast.literal_eval(row[0])\n",
    "                    if(i+1 < len(latInc)):\n",
    "                        if lat >= lat_ and lat < latInc[i+1]:\n",
    "                            for j,lon_ in enumerate(lonInc):\n",
    "                                lon = 360-ast.literal_eval(row[1])\n",
    "                                if(j+1 < len(lonInc)):\n",
    "                                    if lon >= lon_ and lon < lonInc[j+1]:\n",
    "                                        latRnge =[lat_,latInc[i+1]]\n",
    "                                        lonRnge =[lon_,lonInc[j+1]]\n",
    "                                        datadict['latRange'] = latRnge\n",
    "                                        datadict['lonRange'] = lonRnge\n",
    "                                        datadict['cellID'] = str(i) + str(j)\n",
    "                                        datadict[\"lat\"] = float(\"{0:.4f}\".format(lat))\n",
    "                                        datadict[\"lon\"] = float(\"{0:.4f}\".format(lon))\n",
    "                                        datadict[\"uniqueSpecies\"] = []\n",
    "                                        for k in range(3, len(row)):\n",
    "                                            if row[k] != '':\n",
    "                                                value = ast.literal_eval(row[k])\n",
    "                                                if value > 0:\n",
    "                                                    datadict[\"uniqueSpecies\"].append(firsthaulrow[k])\n",
    "                                                    datadict[speciesmap[firsthaulrow[k]]] += value\n",
    "                                        datadictjson = json.dumps(datadict)\n",
    "                                        sol.append(datadictjson)\n",
    "    #                                 print(datadictjson, end=\",\\n\")\n",
    "    if len(sol) > 0:\n",
    "        return populationForCell(sol)\n",
    "    else:\n",
    "        return []"
   ]
  },
  {
   "cell_type": "code",
   "execution_count": 12,
   "metadata": {
    "collapsed": false
   },
   "outputs": [],
   "source": [
    "#extend this to handle days for that month.\n",
    "# e.g sst:(float) -> sst:[float,float,...] (sorted by day)\n",
    "def processFile(years,matrix):\n",
    "    for year in years:\n",
    "        sstData = readSSTData(year)\n",
    "        rows = sstData[\"table\"][\"rows\"]\n",
    "        for idx, cell in enumerate(matrix):\n",
    "            cell = matrix[idx]\n",
    "            totalIntTemp = 0\n",
    "            count = 0\n",
    "            avgIntTemp = 0\n",
    "            for row in rows:\n",
    "                lat = row[2]\n",
    "                lon = row[3]\n",
    "                sst = row[4]\n",
    "                if((cell['latRange'][0] <= lat <= cell['latRange'][1] ) and (cell['lonRange'][0] <= lon <= cell['lonRange'][1])):\n",
    "                    if(sst != None and sst != 0):\n",
    "                        count = count + 1\n",
    "                        totalIntTemp = totalIntTemp + sst\n",
    "            if count != 0:\n",
    "                avgIntTemp = totalIntTemp/count\n",
    "                cell[year]['sst'] = float(\"{0:.4f}\".format(avgIntTemp))\n",
    "        \n",
    "    return matrix"
   ]
  },
  {
   "cell_type": "code",
   "execution_count": 13,
   "metadata": {
    "collapsed": false
   },
   "outputs": [],
   "source": [
    "def processWindData(matrix):\n",
    "    windData = readWindData()\n",
    "    windRows = windData['table']['rows']\n",
    "    for idx, cell in enumerate(matrix):\n",
    "        cell = matrix[idx]\n",
    "        for wRow in windRows:\n",
    "            datetime_object = datetime.strptime(wRow[0], '%Y-%m-%dT%H:%M:%SZ')\n",
    "            year = datetime_object.year\n",
    "            lat = wRow[2]\n",
    "            lon = wRow[3]\n",
    "            xWind = wRow[4]\n",
    "            yWind = wRow[5]\n",
    "            if((cell['latRange'][0] <= lat <= cell['latRange'][1] ) and (cell['lonRange'][0] <= lon <= cell['lonRange'][1])):\n",
    "                if(xWind != None and yWind != None):\n",
    "                    cell[year]['windDegree'] = wind_degree = math.degrees(math.atan(yWind/xWind))\n",
    "    return matrix"
   ]
  },
  {
   "cell_type": "code",
   "execution_count": 14,
   "metadata": {
    "collapsed": true
   },
   "outputs": [],
   "source": [
    "def processChlorophyll(years,matrix):\n",
    "    for year in years:\n",
    "        cholorData = readCholorData(year)\n",
    "        rows = cholorData[\"table\"][\"rows\"]\n",
    "        for idx, cell in enumerate(matrix):\n",
    "            cell = matrix[idx]\n",
    "            totalIntTemp = 0\n",
    "            count = 0\n",
    "            avgIntTemp = 0\n",
    "            for row in rows:\n",
    "                lat = row[2]\n",
    "                lon = row[3]\n",
    "                chloro = row[4]\n",
    "                if((cell['latRange'][0] <= lat <= cell['latRange'][1] ) and (cell['lonRange'][0] <= lon <= cell['lonRange'][1])):\n",
    "                    if(chloro != None ):\n",
    "                        count = count + 1\n",
    "                        totalIntTemp = totalIntTemp + chloro\n",
    "            if count != 0:\n",
    "                avgIntTemp = totalIntTemp/count\n",
    "                cell[year]['chloro'] = float(\"{0:.4f}\".format(avgIntTemp))\n",
    "        \n",
    "    return matrix"
   ]
  },
  {
   "cell_type": "code",
   "execution_count": 15,
   "metadata": {
    "collapsed": true
   },
   "outputs": [],
   "source": [
    "def calculateAverage(data):\n",
    "    #given data for that year for each species... sum up  divide by cells\n",
    "    level2Totals = {}\n",
    "    level1Totals = {}\n",
    "\n",
    "    for d in data:\n",
    "        for l1_name in d['levelOne']:\n",
    "            if l1_name in level1Totals:\n",
    "                level1Totals[l1_name]['sum'] = level1Totals[l1_name]['sum'] + d['levelOneMap'][l1_name]\n",
    "                level1Totals[l1_name]['count'] = level1Totals[l1_name]['count'] + 1\n",
    "                level1Totals[l1_name]['average'] = level1Totals[l1_name]['sum'] / level1Totals[l1_name]['count']\n",
    "            else:\n",
    "                level1Totals[l1_name] = {'sum':0,'count':0,'average':0}\n",
    "                \n",
    "        \n",
    "        for l2_name in d['levelTwo']:\n",
    "            if l2_name in level2Totals:\n",
    "                level2Totals[l2_name]['sum'] = level2Totals[l2_name]['sum'] + d[l2_name]\n",
    "                level2Totals[l2_name]['count'] = level2Totals[l2_name]['count'] + 1\n",
    "                level2Totals[l2_name]['average'] = level2Totals[l2_name]['sum'] / level2Totals[l2_name]['count']\n",
    "            else:\n",
    "                level2Totals[l2_name] = {'sum':0,'count':0,'average':0}\n",
    "    \n",
    "    return [level1Totals,level2Totals]"
   ]
  },
  {
   "cell_type": "code",
   "execution_count": 16,
   "metadata": {
    "collapsed": false
   },
   "outputs": [],
   "source": [
    "def processPops(matrix,years):\n",
    "    yearAvg = {}\n",
    "    for year in years:\n",
    "        popData = processPopulation(year)\n",
    "        yearlyAverage = calculateAverage(popData)\n",
    "        yearAvg[year] = {'L1':yearlyAverage[0],'L2':yearlyAverage[1]}\n",
    "        for data in popData:\n",
    "            matrix[int(data['cellID'])][year]['popInfo'] = data\n",
    "    return [matrix,yearAvg]"
   ]
  },
  {
   "cell_type": "code",
   "execution_count": 184,
   "metadata": {
    "collapsed": false
   },
   "outputs": [],
   "source": [
    "#run this function for all \n",
    "years = [2009,2010,2011,2012,2013,2014,2015]\n",
    "sstYears = [2011,2015]\n",
    "matrix = initMatrix(years)\n",
    "matrix = processFile(sstYears,matrix)\n",
    "matrix = processWindData(matrix) #for all years\n",
    "matrix = processChlorophyll(sstYears,matrix)\n"
   ]
  },
  {
   "cell_type": "code",
   "execution_count": 186,
   "metadata": {
    "collapsed": false
   },
   "outputs": [
    {
     "name": "stdout",
     "output_type": "stream",
     "text": [
      "100\n"
     ]
    }
   ],
   "source": [
    "newMatrix = matrix\n",
    "print(len(matrix))\n"
   ]
  },
  {
   "cell_type": "code",
   "execution_count": 187,
   "metadata": {
    "collapsed": false
   },
   "outputs": [],
   "source": [
    "temp = processPops(newMatrix,years)"
   ]
  },
  {
   "cell_type": "code",
   "execution_count": 192,
   "metadata": {
    "collapsed": false
   },
   "outputs": [
    {
     "data": {
      "text/plain": [
       "{2009: {'L1': {'Cephalopod': {'average': 81.5625, 'count': 16, 'sum': 1305},\n",
       "   'Crustacean': {'average': 407.6875, 'count': 16, 'sum': 6523},\n",
       "   'Euphausiid': {'average': 252001.9375, 'count': 16, 'sum': 4032031},\n",
       "   'Fish': {'average': 70.0625, 'count': 16, 'sum': 1121},\n",
       "   'Gelatinous': {'average': 0.0, 'count': 16, 'sum': 0},\n",
       "   'Ground Fish': {'average': 304.875, 'count': 16, 'sum': 4878},\n",
       "   'Jellyfish': {'average': 9.375, 'count': 16, 'sum': 150},\n",
       "   'Salmonid': {'average': 0.1875, 'count': 16, 'sum': 3},\n",
       "   'Small Fish': {'average': 809.9375, 'count': 16, 'sum': 12959}},\n",
       "  'L2': {'cephalopod': {'average': 81.5625, 'count': 16, 'sum': 1305},\n",
       "   'clupeoid': {'average': 1.0, 'count': 16, 'sum': 16},\n",
       "   'cottid': {'average': 1.5625, 'count': 16, 'sum': 25},\n",
       "   'crustacean': {'average': 407.6875, 'count': 16, 'sum': 6523},\n",
       "   'deep-sea smelt': {'average': 5.6875, 'count': 16, 'sum': 91},\n",
       "   'elasmobranch': {'average': 0.375, 'count': 16, 'sum': 6},\n",
       "   'euphausiid': {'average': 252001.9375, 'count': 16, 'sum': 4032031},\n",
       "   'fish': {'average': 70.0625, 'count': 16, 'sum': 1121},\n",
       "   'flatfish': {'average': 16.5625, 'count': 16, 'sum': 265},\n",
       "   'gelatinous': {'average': 0.0, 'count': 16, 'sum': 0},\n",
       "   'hyperiid amphipod': {'average': 0.0, 'count': 16, 'sum': 0},\n",
       "   'jellyfish': {'average': 9.375, 'count': 16, 'sum': 150},\n",
       "   'myctophid': {'average': 800.625, 'count': 16, 'sum': 12810},\n",
       "   'other groundfish': {'average': 151.375, 'count': 16, 'sum': 2422},\n",
       "   'other rockfish': {'average': 0.875, 'count': 16, 'sum': 14},\n",
       "   'rockfish': {'average': 135.6875, 'count': 16, 'sum': 2171},\n",
       "   'salmonid': {'average': 0.1875, 'count': 16, 'sum': 3},\n",
       "   'smelt': {'average': 1.0625, 'count': 16, 'sum': 17}}},\n",
       " 2010: {'L1': {'Cephalopod': {'average': 126.3125, 'count': 16, 'sum': 2021},\n",
       "   'Crustacean': {'average': 342.5625, 'count': 16, 'sum': 5481},\n",
       "   'Euphausiid': {'average': 148604.5, 'count': 16, 'sum': 2377672.0},\n",
       "   'Fish': {'average': 9.5625, 'count': 16, 'sum': 153},\n",
       "   'Gelatinous': {'average': 0.0, 'count': 16, 'sum': 0},\n",
       "   'Ground Fish': {'average': 388.5, 'count': 16, 'sum': 6216},\n",
       "   'Jellyfish': {'average': 16.4375, 'count': 16, 'sum': 263},\n",
       "   'Salmonid': {'average': 0.0, 'count': 16, 'sum': 0},\n",
       "   'Small Fish': {'average': 2314.4375, 'count': 16, 'sum': 37031}},\n",
       "  'L2': {'cephalopod': {'average': 126.3125, 'count': 16, 'sum': 2021},\n",
       "   'clupeoid': {'average': 0.75, 'count': 16, 'sum': 12},\n",
       "   'cottid': {'average': 1.0625, 'count': 16, 'sum': 17},\n",
       "   'crustacean': {'average': 342.5625, 'count': 16, 'sum': 5481},\n",
       "   'deep-sea smelt': {'average': 80.1875, 'count': 16, 'sum': 1283},\n",
       "   'elasmobranch': {'average': 0.25, 'count': 16, 'sum': 4},\n",
       "   'euphausiid': {'average': 148604.5, 'count': 16, 'sum': 2377672.0},\n",
       "   'fish': {'average': 9.5625, 'count': 16, 'sum': 153},\n",
       "   'flatfish': {'average': 91.75, 'count': 16, 'sum': 1468},\n",
       "   'gelatinous': {'average': 0.0, 'count': 16, 'sum': 0},\n",
       "   'hyperiid amphipod': {'average': 0.0, 'count': 16, 'sum': 0},\n",
       "   'jellyfish': {'average': 16.4375, 'count': 16, 'sum': 263},\n",
       "   'myctophid': {'average': 2231.6875, 'count': 16, 'sum': 35707},\n",
       "   'other groundfish': {'average': 198.75, 'count': 16, 'sum': 3180},\n",
       "   'other rockfish': {'average': 2.375, 'count': 16, 'sum': 38},\n",
       "   'rockfish': {'average': 95.375, 'count': 16, 'sum': 1526},\n",
       "   'salmonid': {'average': 0.0, 'count': 16, 'sum': 0},\n",
       "   'smelt': {'average': 0.75, 'count': 16, 'sum': 12}}},\n",
       " 2011: {'L1': {'Cephalopod': {'average': 123.5, 'count': 14, 'sum': 1729},\n",
       "   'Crustacean': {'average': 192.35714285714286, 'count': 14, 'sum': 2693},\n",
       "   'Euphausiid': {'average': 200881.2142857143, 'count': 14, 'sum': 2812337},\n",
       "   'Fish': {'average': 8.785714285714286, 'count': 14, 'sum': 123},\n",
       "   'Gelatinous': {'average': 0.0, 'count': 14, 'sum': 0},\n",
       "   'Ground Fish': {'average': 598.5, 'count': 14, 'sum': 8379},\n",
       "   'Jellyfish': {'average': 120.14285714285714, 'count': 14, 'sum': 1682},\n",
       "   'Salmonid': {'average': 0.0, 'count': 14, 'sum': 0},\n",
       "   'Small Fish': {'average': 112.35714285714286, 'count': 14, 'sum': 1573}},\n",
       "  'L2': {'cephalopod': {'average': 123.5, 'count': 14, 'sum': 1729},\n",
       "   'clupeoid': {'average': 0.07142857142857142, 'count': 14, 'sum': 1},\n",
       "   'cottid': {'average': 2.0714285714285716, 'count': 14, 'sum': 29},\n",
       "   'crustacean': {'average': 192.35714285714286, 'count': 14, 'sum': 2693},\n",
       "   'deep-sea smelt': {'average': 18.0, 'count': 14, 'sum': 252},\n",
       "   'elasmobranch': {'average': 0.2857142857142857, 'count': 14, 'sum': 4},\n",
       "   'euphausiid': {'average': 200881.2142857143, 'count': 14, 'sum': 2812337},\n",
       "   'fish': {'average': 8.785714285714286, 'count': 14, 'sum': 123},\n",
       "   'flatfish': {'average': 220.21428571428572, 'count': 14, 'sum': 3083},\n",
       "   'gelatinous': {'average': 0.0, 'count': 14, 'sum': 0},\n",
       "   'hyperiid amphipod': {'average': 0.0, 'count': 14, 'sum': 0},\n",
       "   'jellyfish': {'average': 120.14285714285714, 'count': 14, 'sum': 1682},\n",
       "   'myctophid': {'average': 81.14285714285714, 'count': 14, 'sum': 1136},\n",
       "   'other groundfish': {'average': 101.57142857142857,\n",
       "    'count': 14,\n",
       "    'sum': 1422},\n",
       "   'other rockfish': {'average': 8.571428571428571, 'count': 14, 'sum': 120},\n",
       "   'rockfish': {'average': 267.85714285714283, 'count': 14, 'sum': 3750},\n",
       "   'salmonid': {'average': 0.0, 'count': 14, 'sum': 0},\n",
       "   'smelt': {'average': 11.071428571428571, 'count': 14, 'sum': 155}}},\n",
       " 2012: {'L1': {'Cephalopod': {'average': 623.3571428571429,\n",
       "    'count': 14,\n",
       "    'sum': 8727},\n",
       "   'Crustacean': {'average': 679.5714285714286, 'count': 14, 'sum': 9514},\n",
       "   'Euphausiid': {'average': 241317.7857142857, 'count': 14, 'sum': 3378449},\n",
       "   'Fish': {'average': 4.357142857142857, 'count': 14, 'sum': 61},\n",
       "   'Gelatinous': {'average': 22819.571428571428, 'count': 14, 'sum': 319474},\n",
       "   'Ground Fish': {'average': 201.5, 'count': 14, 'sum': 2821},\n",
       "   'Jellyfish': {'average': 9.071428571428571, 'count': 14, 'sum': 127},\n",
       "   'Salmonid': {'average': 0.21428571428571427, 'count': 14, 'sum': 3},\n",
       "   'Small Fish': {'average': 136.64285714285714, 'count': 14, 'sum': 1913}},\n",
       "  'L2': {'cephalopod': {'average': 623.3571428571429,\n",
       "    'count': 14,\n",
       "    'sum': 8727},\n",
       "   'clupeoid': {'average': 0.5714285714285714, 'count': 14, 'sum': 8},\n",
       "   'cottid': {'average': 0.7142857142857143, 'count': 14, 'sum': 10},\n",
       "   'crustacean': {'average': 679.5714285714286, 'count': 14, 'sum': 9514},\n",
       "   'deep-sea smelt': {'average': 5.357142857142857, 'count': 14, 'sum': 75},\n",
       "   'elasmobranch': {'average': 0.8571428571428571, 'count': 14, 'sum': 12},\n",
       "   'euphausiid': {'average': 241317.7857142857, 'count': 14, 'sum': 3378449},\n",
       "   'fish': {'average': 4.357142857142857, 'count': 14, 'sum': 61},\n",
       "   'flatfish': {'average': 113.42857142857143, 'count': 14, 'sum': 1588},\n",
       "   'gelatinous': {'average': 22819.571428571428, 'count': 14, 'sum': 319474},\n",
       "   'hyperiid amphipod': {'average': 0.0, 'count': 14, 'sum': 0},\n",
       "   'jellyfish': {'average': 9.071428571428571, 'count': 14, 'sum': 127},\n",
       "   'myctophid': {'average': 30.357142857142858, 'count': 14, 'sum': 425},\n",
       "   'other groundfish': {'average': 58.357142857142854,\n",
       "    'count': 14,\n",
       "    'sum': 817},\n",
       "   'other rockfish': {'average': 0.2857142857142857, 'count': 14, 'sum': 4},\n",
       "   'rockfish': {'average': 28.571428571428573, 'count': 14, 'sum': 400},\n",
       "   'salmonid': {'average': 0.21428571428571427, 'count': 14, 'sum': 3},\n",
       "   'smelt': {'average': 99.64285714285714, 'count': 14, 'sum': 1395}}},\n",
       " 2013: {'L1': {'Cephalopod': {'average': 654.2631578947369,\n",
       "    'count': 19,\n",
       "    'sum': 12431},\n",
       "   'Crustacean': {'average': 2202.315789473684, 'count': 19, 'sum': 41844},\n",
       "   'Euphausiid': {'average': 425342.6842105263, 'count': 19, 'sum': 8081511},\n",
       "   'Fish': {'average': 16.94736842105263, 'count': 19, 'sum': 322},\n",
       "   'Gelatinous': {'average': 155.05263157894737, 'count': 19, 'sum': 2946},\n",
       "   'Ground Fish': {'average': 4008.8947368421054, 'count': 19, 'sum': 76169},\n",
       "   'Jellyfish': {'average': 19.68421052631579, 'count': 19, 'sum': 374},\n",
       "   'Salmonid': {'average': 0.10526315789473684, 'count': 19, 'sum': 2},\n",
       "   'Small Fish': {'average': 857.578947368421, 'count': 19, 'sum': 16294}},\n",
       "  'L2': {'cephalopod': {'average': 654.2631578947369,\n",
       "    'count': 19,\n",
       "    'sum': 12431},\n",
       "   'clupeoid': {'average': 5.105263157894737, 'count': 19, 'sum': 97},\n",
       "   'cottid': {'average': 2.8947368421052633, 'count': 19, 'sum': 55},\n",
       "   'crustacean': {'average': 2202.315789473684, 'count': 19, 'sum': 41844},\n",
       "   'deep-sea smelt': {'average': 115.42105263157895, 'count': 19, 'sum': 2193},\n",
       "   'elasmobranch': {'average': 0.15789473684210525, 'count': 19, 'sum': 3},\n",
       "   'euphausiid': {'average': 425342.6842105263, 'count': 19, 'sum': 8081511},\n",
       "   'fish': {'average': 16.94736842105263, 'count': 19, 'sum': 322},\n",
       "   'flatfish': {'average': 626.5263157894736, 'count': 19, 'sum': 11904},\n",
       "   'gelatinous': {'average': 155.05263157894737, 'count': 19, 'sum': 2946},\n",
       "   'hyperiid amphipod': {'average': 0.0, 'count': 19, 'sum': 0},\n",
       "   'jellyfish': {'average': 19.68421052631579, 'count': 19, 'sum': 374},\n",
       "   'myctophid': {'average': 450.5263157894737, 'count': 19, 'sum': 8560},\n",
       "   'other groundfish': {'average': 255.94736842105263,\n",
       "    'count': 19,\n",
       "    'sum': 4863},\n",
       "   'other rockfish': {'average': 0.8421052631578947, 'count': 19, 'sum': 16},\n",
       "   'rockfish': {'average': 3125.4210526315787, 'count': 19, 'sum': 59383},\n",
       "   'salmonid': {'average': 0.10526315789473684, 'count': 19, 'sum': 2},\n",
       "   'smelt': {'average': 283.63157894736844, 'count': 19, 'sum': 5389}}},\n",
       " 2014: {'L1': {'Cephalopod': {'average': 1751.7894736842106,\n",
       "    'count': 19,\n",
       "    'sum': 33284},\n",
       "   'Crustacean': {'average': 208.31578947368422, 'count': 19, 'sum': 3958},\n",
       "   'Euphausiid': {'average': 465695.36842105264, 'count': 19, 'sum': 8848212},\n",
       "   'Fish': {'average': 24.210526315789473, 'count': 19, 'sum': 460},\n",
       "   'Gelatinous': {'average': 957.4736842105264, 'count': 19, 'sum': 18192},\n",
       "   'Ground Fish': {'average': 805.7368421052631, 'count': 19, 'sum': 15309},\n",
       "   'Jellyfish': {'average': 8.736842105263158, 'count': 19, 'sum': 166},\n",
       "   'Salmonid': {'average': 0.05263157894736842, 'count': 19, 'sum': 1},\n",
       "   'Small Fish': {'average': 956.0526315789474, 'count': 19, 'sum': 18165}},\n",
       "  'L2': {'cephalopod': {'average': 1751.7894736842106,\n",
       "    'count': 19,\n",
       "    'sum': 33284},\n",
       "   'clupeoid': {'average': 1.9473684210526316, 'count': 19, 'sum': 37},\n",
       "   'cottid': {'average': 1.4736842105263157, 'count': 19, 'sum': 28},\n",
       "   'crustacean': {'average': 208.31578947368422, 'count': 19, 'sum': 3958},\n",
       "   'deep-sea smelt': {'average': 685.2631578947369, 'count': 19, 'sum': 13020},\n",
       "   'elasmobranch': {'average': 0.2631578947368421, 'count': 19, 'sum': 5},\n",
       "   'euphausiid': {'average': 465695.36842105264, 'count': 19, 'sum': 8848212},\n",
       "   'fish': {'average': 24.210526315789473, 'count': 19, 'sum': 460},\n",
       "   'flatfish': {'average': 475.89473684210526, 'count': 19, 'sum': 9042},\n",
       "   'gelatinous': {'average': 957.4736842105264, 'count': 19, 'sum': 18192},\n",
       "   'hyperiid amphipod': {'average': 0.0, 'count': 19, 'sum': 0},\n",
       "   'jellyfish': {'average': 8.736842105263158, 'count': 19, 'sum': 166},\n",
       "   'myctophid': {'average': 262.05263157894734, 'count': 19, 'sum': 4979},\n",
       "   'other groundfish': {'average': 50.8421052631579, 'count': 19, 'sum': 966},\n",
       "   'other rockfish': {'average': 1.105263157894737, 'count': 19, 'sum': 21},\n",
       "   'rockfish': {'average': 277.63157894736844, 'count': 19, 'sum': 5275},\n",
       "   'salmonid': {'average': 0.05263157894736842, 'count': 19, 'sum': 1},\n",
       "   'smelt': {'average': 5.315789473684211, 'count': 19, 'sum': 101}}},\n",
       " 2015: {'L1': {'Cephalopod': {'average': 677.5882352941177,\n",
       "    'count': 17,\n",
       "    'sum': 11519},\n",
       "   'Crustacean': {'average': 362.94117647058823, 'count': 17, 'sum': 6170},\n",
       "   'Euphausiid': {'average': 176146.70588235295, 'count': 17, 'sum': 2994494},\n",
       "   'Fish': {'average': 56.23529411764706, 'count': 17, 'sum': 956},\n",
       "   'Gelatinous': {'average': 37191.64705882353, 'count': 17, 'sum': 632258},\n",
       "   'Ground Fish': {'average': 6356.941176470588, 'count': 17, 'sum': 108068},\n",
       "   'Jellyfish': {'average': 5.411764705882353, 'count': 17, 'sum': 92},\n",
       "   'Salmonid': {'average': 0.0, 'count': 17, 'sum': 0},\n",
       "   'Small Fish': {'average': 323.94117647058823, 'count': 17, 'sum': 5507}},\n",
       "  'L2': {'cephalopod': {'average': 677.5882352941177,\n",
       "    'count': 17,\n",
       "    'sum': 11519},\n",
       "   'clupeoid': {'average': 241.0, 'count': 17, 'sum': 4097},\n",
       "   'cottid': {'average': 2.0, 'count': 17, 'sum': 34},\n",
       "   'crustacean': {'average': 341.3529411764706, 'count': 17, 'sum': 5803},\n",
       "   'deep-sea smelt': {'average': 3.5294117647058822, 'count': 17, 'sum': 60},\n",
       "   'elasmobranch': {'average': 0.17647058823529413, 'count': 17, 'sum': 3},\n",
       "   'euphausiid': {'average': 176146.70588235295, 'count': 17, 'sum': 2994494},\n",
       "   'fish': {'average': 56.23529411764706, 'count': 17, 'sum': 956},\n",
       "   'flatfish': {'average': 866.2941176470588, 'count': 17, 'sum': 14727},\n",
       "   'gelatinous': {'average': 37191.64705882353, 'count': 17, 'sum': 632258},\n",
       "   'hyperiid amphipod': {'average': 21.58823529411765,\n",
       "    'count': 17,\n",
       "    'sum': 367},\n",
       "   'jellyfish': {'average': 5.411764705882353, 'count': 17, 'sum': 92},\n",
       "   'myctophid': {'average': 77.3529411764706, 'count': 17, 'sum': 1315},\n",
       "   'other groundfish': {'average': 745.4705882352941,\n",
       "    'count': 17,\n",
       "    'sum': 12673},\n",
       "   'other rockfish': {'average': 58.88235294117647, 'count': 17, 'sum': 1001},\n",
       "   'rockfish': {'average': 4686.117647058823, 'count': 17, 'sum': 79664},\n",
       "   'salmonid': {'average': 0.0, 'count': 17, 'sum': 0},\n",
       "   'smelt': {'average': 0.058823529411764705, 'count': 17, 'sum': 1}}},\n",
       " 2016: {'L1': {}, 'L2': {}},\n",
       " 2017: {'L1': {}, 'L2': {}},\n",
       " 2018: {'L1': {}, 'L2': {}}}"
      ]
     },
     "execution_count": 192,
     "metadata": {},
     "output_type": "execute_result"
    }
   ],
   "source": [
    "temp[1]"
   ]
  },
  {
   "cell_type": "code",
   "execution_count": null,
   "metadata": {
    "collapsed": false
   },
   "outputs": [],
   "source": []
  },
  {
   "cell_type": "code",
   "execution_count": 193,
   "metadata": {
    "collapsed": true
   },
   "outputs": [],
   "source": [
    "with open('average_data.json', 'w') as outfile:\n",
    "    json.dump(temp[1], outfile)"
   ]
  },
  {
   "cell_type": "code",
   "execution_count": null,
   "metadata": {
    "collapsed": true
   },
   "outputs": [],
   "source": []
  }
 ],
 "metadata": {
  "anaconda-cloud": {},
  "kernelspec": {
   "display_name": "Python 3",
   "language": "python",
   "name": "python3"
  },
  "language_info": {
   "codemirror_mode": {
    "name": "ipython",
    "version": 3
   },
   "file_extension": ".py",
   "mimetype": "text/x-python",
   "name": "python",
   "nbconvert_exporter": "python",
   "pygments_lexer": "ipython3",
   "version": "3.6.3"
  }
 },
 "nbformat": 4,
 "nbformat_minor": 2
}
